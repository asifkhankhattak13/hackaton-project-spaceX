{
 "cells": [
  {
   "cell_type": "code",
   "execution_count": null,
   "id": "ad5b6425",
   "metadata": {},
   "outputs": [],
   "source": []
  },
  {
   "cell_type": "code",
   "execution_count": 1,
   "id": "414fcd7b",
   "metadata": {},
   "outputs": [
    {
     "name": "stdout",
     "output_type": "stream",
     "text": [
      "Fetching launches...\n",
      "Saved launches.csv\n",
      "Fetching rockets...\n",
      "Saved rockets.csv\n",
      "Fetching payloads...\n",
      "Saved payloads.csv\n",
      "Fetching launchpads...\n",
      "Saved launchpads.csv\n",
      "done\n"
     ]
    }
   ],
   "source": [
    "import requests\n",
    "import pandas as pd\n",
    "\n",
    "# APIs\n",
    "endpoints = {\n",
    "    \"launches\": \"https://api.spacexdata.com/v4/launches\",\n",
    "    \"rockets\": \"https://api.spacexdata.com/v4/rockets\",\n",
    "    \"payloads\": \"https://api.spacexdata.com/v4/payloads\",\n",
    "    \"launchpads\": \"https://api.spacexdata.com/v4/launchpads\"\n",
    "}\n",
    "\n",
    "\n",
    "for name, url in endpoints.items():\n",
    "    print(f\"Fetching {name}...\")\n",
    "    response = requests.get(url)\n",
    "    data = response.json()\n",
    "    df = pd.json_normalize(data)\n",
    "    df.to_csv(f\"{name}.csv\", index=False)\n",
    "    print(f\"Saved {name}.csv\")\n",
    "\n",
    "print(\"done\")\n"
   ]
  },
  {
   "cell_type": "code",
   "execution_count": 2,
   "id": "2dbb6c3f",
   "metadata": {},
   "outputs": [
    {
     "name": "stdout",
     "output_type": "stream",
     "text": [
      "Final cleaned dataset saved as spacex_cleaned.csv\n"
     ]
    }
   ],
   "source": [
    "import pandas as pd\n",
    "import ast\n",
    "\n",
    "# --- Load CSV files ---\n",
    "launches = pd.read_csv(\"launches.csv\", low_memory=False)\n",
    "rockets = pd.read_csv(\"rockets.csv\")\n",
    "payloads = pd.read_csv(\"payloads.csv\")\n",
    "launchpads = pd.read_csv(\"launchpads.csv\")\n",
    "\n",
    "# --- Safe payload ID extraction ---\n",
    "def get_first_payload(x):\n",
    "    try:\n",
    "        payload_list = ast.literal_eval(x)\n",
    "        if isinstance(payload_list, list) and len(payload_list) > 0:\n",
    "            return payload_list[0]\n",
    "    except:\n",
    "        return None\n",
    "\n",
    "# Handle missing or malformed payloads\n",
    "launches['payload_id'] = launches['payloads'].fillna(\"[]\").apply(get_first_payload)\n",
    "\n",
    "# --- Merge rocket info ---\n",
    "rockets = rockets.rename(columns={'id': 'rocket_id', 'name': 'rocket_name'})\n",
    "launches = launches.merge(\n",
    "    rockets[['rocket_id', 'rocket_name']],\n",
    "    left_on='rocket',\n",
    "    right_on='rocket_id',\n",
    "    how='left'\n",
    ")\n",
    "\n",
    "# --- Merge payload info ---\n",
    "payloads = payloads.rename(columns={'id': 'payload_id_ref'})\n",
    "launches = launches.merge(\n",
    "    payloads[['payload_id_ref', 'mass_kg', 'orbit']],\n",
    "    left_on='payload_id',\n",
    "    right_on='payload_id_ref',\n",
    "    how='left'\n",
    ")\n",
    "launches.rename(columns={'mass_kg': 'payload_mass'}, inplace=True)\n",
    "\n",
    "# --- Merge launchpad info ---\n",
    "launchpads = launchpads.rename(columns={'id': 'launchpad_id', 'name': 'site_name'})\n",
    "launches = launches.merge(\n",
    "    launchpads[['launchpad_id', 'site_name', 'locality']],\n",
    "    left_on='launchpad',\n",
    "    right_on='launchpad_id',\n",
    "    how='left'\n",
    ")\n",
    "\n",
    "# --- Final cleaned DataFrame ---\n",
    "final = launches[[\n",
    "    'name', 'date_utc', 'rocket_name', 'payload_mass',\n",
    "    'orbit', 'site_name', 'locality', 'success'\n",
    "]].rename(columns={\n",
    "    'name': 'mission_name',\n",
    "    'date_utc': 'launch_date',\n",
    "    'locality': 'location'\n",
    "})\n",
    "\n",
    "# --- Save cleaned dataset ---\n",
    "final.to_csv(\"spacex_cleaned.csv\", index=False)\n",
    "print(\"Final cleaned dataset saved as spacex_cleaned.csv\")\n"
   ]
  },
  {
   "cell_type": "code",
   "execution_count": 3,
   "id": "64785db3",
   "metadata": {
    "scrolled": true
   },
   "outputs": [
    {
     "data": {
      "text/html": [
       "<div>\n",
       "<style scoped>\n",
       "    .dataframe tbody tr th:only-of-type {\n",
       "        vertical-align: middle;\n",
       "    }\n",
       "\n",
       "    .dataframe tbody tr th {\n",
       "        vertical-align: top;\n",
       "    }\n",
       "\n",
       "    .dataframe thead th {\n",
       "        text-align: right;\n",
       "    }\n",
       "</style>\n",
       "<table border=\"1\" class=\"dataframe\">\n",
       "  <thead>\n",
       "    <tr style=\"text-align: right;\">\n",
       "      <th></th>\n",
       "      <th>mission_name</th>\n",
       "      <th>launch_date</th>\n",
       "      <th>rocket_name</th>\n",
       "      <th>payload_mass</th>\n",
       "      <th>orbit</th>\n",
       "      <th>site_name</th>\n",
       "      <th>location</th>\n",
       "      <th>success</th>\n",
       "    </tr>\n",
       "  </thead>\n",
       "  <tbody>\n",
       "    <tr>\n",
       "      <th>0</th>\n",
       "      <td>FalconSat</td>\n",
       "      <td>2006-03-24T22:30:00.000Z</td>\n",
       "      <td>Falcon 1</td>\n",
       "      <td>20.0</td>\n",
       "      <td>LEO</td>\n",
       "      <td>Kwajalein Atoll</td>\n",
       "      <td>Omelek Island</td>\n",
       "      <td>False</td>\n",
       "    </tr>\n",
       "    <tr>\n",
       "      <th>1</th>\n",
       "      <td>DemoSat</td>\n",
       "      <td>2007-03-21T01:10:00.000Z</td>\n",
       "      <td>Falcon 1</td>\n",
       "      <td>NaN</td>\n",
       "      <td>LEO</td>\n",
       "      <td>Kwajalein Atoll</td>\n",
       "      <td>Omelek Island</td>\n",
       "      <td>False</td>\n",
       "    </tr>\n",
       "    <tr>\n",
       "      <th>2</th>\n",
       "      <td>Trailblazer</td>\n",
       "      <td>2008-08-03T03:34:00.000Z</td>\n",
       "      <td>Falcon 1</td>\n",
       "      <td>NaN</td>\n",
       "      <td>LEO</td>\n",
       "      <td>Kwajalein Atoll</td>\n",
       "      <td>Omelek Island</td>\n",
       "      <td>False</td>\n",
       "    </tr>\n",
       "    <tr>\n",
       "      <th>3</th>\n",
       "      <td>RatSat</td>\n",
       "      <td>2008-09-28T23:15:00.000Z</td>\n",
       "      <td>Falcon 1</td>\n",
       "      <td>165.0</td>\n",
       "      <td>LEO</td>\n",
       "      <td>Kwajalein Atoll</td>\n",
       "      <td>Omelek Island</td>\n",
       "      <td>True</td>\n",
       "    </tr>\n",
       "    <tr>\n",
       "      <th>4</th>\n",
       "      <td>RazakSat</td>\n",
       "      <td>2009-07-13T03:35:00.000Z</td>\n",
       "      <td>Falcon 1</td>\n",
       "      <td>200.0</td>\n",
       "      <td>LEO</td>\n",
       "      <td>Kwajalein Atoll</td>\n",
       "      <td>Omelek Island</td>\n",
       "      <td>True</td>\n",
       "    </tr>\n",
       "    <tr>\n",
       "      <th>...</th>\n",
       "      <td>...</td>\n",
       "      <td>...</td>\n",
       "      <td>...</td>\n",
       "      <td>...</td>\n",
       "      <td>...</td>\n",
       "      <td>...</td>\n",
       "      <td>...</td>\n",
       "      <td>...</td>\n",
       "    </tr>\n",
       "    <tr>\n",
       "      <th>200</th>\n",
       "      <td>Transporter-6</td>\n",
       "      <td>2022-12-01T00:00:00.000Z</td>\n",
       "      <td>Falcon 9</td>\n",
       "      <td>NaN</td>\n",
       "      <td>NaN</td>\n",
       "      <td>CCSFS SLC 40</td>\n",
       "      <td>Cape Canaveral</td>\n",
       "      <td>NaN</td>\n",
       "    </tr>\n",
       "    <tr>\n",
       "      <th>201</th>\n",
       "      <td>TTL-1</td>\n",
       "      <td>2022-12-01T00:00:00.000Z</td>\n",
       "      <td>Falcon 9</td>\n",
       "      <td>NaN</td>\n",
       "      <td>PO</td>\n",
       "      <td>VAFB SLC 4E</td>\n",
       "      <td>Vandenberg Space Force Base</td>\n",
       "      <td>NaN</td>\n",
       "    </tr>\n",
       "    <tr>\n",
       "      <th>202</th>\n",
       "      <td>WorldView Legion 1 &amp; 2</td>\n",
       "      <td>2022-12-01T00:00:00.000Z</td>\n",
       "      <td>Falcon 9</td>\n",
       "      <td>NaN</td>\n",
       "      <td>SSO</td>\n",
       "      <td>CCSFS SLC 40</td>\n",
       "      <td>Cape Canaveral</td>\n",
       "      <td>NaN</td>\n",
       "    </tr>\n",
       "    <tr>\n",
       "      <th>203</th>\n",
       "      <td>Viasat-3 &amp; Arcturus</td>\n",
       "      <td>2022-12-01T00:00:00.000Z</td>\n",
       "      <td>Falcon Heavy</td>\n",
       "      <td>NaN</td>\n",
       "      <td>NaN</td>\n",
       "      <td>KSC LC 39A</td>\n",
       "      <td>Cape Canaveral</td>\n",
       "      <td>NaN</td>\n",
       "    </tr>\n",
       "    <tr>\n",
       "      <th>204</th>\n",
       "      <td>O3b mPower 3.4</td>\n",
       "      <td>2022-12-01T00:00:00.000Z</td>\n",
       "      <td>Falcon 9</td>\n",
       "      <td>5100.0</td>\n",
       "      <td>MEO</td>\n",
       "      <td>CCSFS SLC 40</td>\n",
       "      <td>Cape Canaveral</td>\n",
       "      <td>NaN</td>\n",
       "    </tr>\n",
       "  </tbody>\n",
       "</table>\n",
       "<p>205 rows × 8 columns</p>\n",
       "</div>"
      ],
      "text/plain": [
       "               mission_name               launch_date   rocket_name  \\\n",
       "0                 FalconSat  2006-03-24T22:30:00.000Z      Falcon 1   \n",
       "1                   DemoSat  2007-03-21T01:10:00.000Z      Falcon 1   \n",
       "2               Trailblazer  2008-08-03T03:34:00.000Z      Falcon 1   \n",
       "3                    RatSat  2008-09-28T23:15:00.000Z      Falcon 1   \n",
       "4                  RazakSat  2009-07-13T03:35:00.000Z      Falcon 1   \n",
       "..                      ...                       ...           ...   \n",
       "200           Transporter-6  2022-12-01T00:00:00.000Z      Falcon 9   \n",
       "201                   TTL-1  2022-12-01T00:00:00.000Z      Falcon 9   \n",
       "202  WorldView Legion 1 & 2  2022-12-01T00:00:00.000Z      Falcon 9   \n",
       "203     Viasat-3 & Arcturus  2022-12-01T00:00:00.000Z  Falcon Heavy   \n",
       "204          O3b mPower 3.4  2022-12-01T00:00:00.000Z      Falcon 9   \n",
       "\n",
       "     payload_mass orbit        site_name                     location success  \n",
       "0            20.0   LEO  Kwajalein Atoll                Omelek Island   False  \n",
       "1             NaN   LEO  Kwajalein Atoll                Omelek Island   False  \n",
       "2             NaN   LEO  Kwajalein Atoll                Omelek Island   False  \n",
       "3           165.0   LEO  Kwajalein Atoll                Omelek Island    True  \n",
       "4           200.0   LEO  Kwajalein Atoll                Omelek Island    True  \n",
       "..            ...   ...              ...                          ...     ...  \n",
       "200           NaN   NaN     CCSFS SLC 40               Cape Canaveral     NaN  \n",
       "201           NaN    PO      VAFB SLC 4E  Vandenberg Space Force Base     NaN  \n",
       "202           NaN   SSO     CCSFS SLC 40               Cape Canaveral     NaN  \n",
       "203           NaN   NaN       KSC LC 39A               Cape Canaveral     NaN  \n",
       "204        5100.0   MEO     CCSFS SLC 40               Cape Canaveral     NaN  \n",
       "\n",
       "[205 rows x 8 columns]"
      ]
     },
     "execution_count": 3,
     "metadata": {},
     "output_type": "execute_result"
    }
   ],
   "source": [
    "pd.read_csv(\"spacex_cleaned.csv\")"
   ]
  },
  {
   "cell_type": "code",
   "execution_count": 4,
   "id": "472c9553",
   "metadata": {},
   "outputs": [
    {
     "data": {
      "text/plain": [
       "Index(['mission_name', 'launch_date', 'rocket_name', 'payload_mass', 'orbit',\n",
       "       'site_name', 'location', 'success'],\n",
       "      dtype='object')"
      ]
     },
     "execution_count": 4,
     "metadata": {},
     "output_type": "execute_result"
    }
   ],
   "source": [
    "final.columns"
   ]
  },
  {
   "cell_type": "code",
   "execution_count": 5,
   "id": "16647287",
   "metadata": {},
   "outputs": [
    {
     "data": {
      "text/plain": [
       "mission_name     0\n",
       "launch_date      0\n",
       "rocket_name      0\n",
       "payload_mass    39\n",
       "orbit           13\n",
       "site_name        0\n",
       "location         0\n",
       "success         19\n",
       "dtype: int64"
      ]
     },
     "execution_count": 5,
     "metadata": {},
     "output_type": "execute_result"
    }
   ],
   "source": [
    "final.isna().sum()"
   ]
  },
  {
   "cell_type": "code",
   "execution_count": 6,
   "id": "335ed1e1",
   "metadata": {},
   "outputs": [
    {
     "data": {
      "text/plain": [
       "dtype('float64')"
      ]
     },
     "execution_count": 6,
     "metadata": {},
     "output_type": "execute_result"
    }
   ],
   "source": [
    "final.payload_mass.dtype"
   ]
  },
  {
   "cell_type": "code",
   "execution_count": 7,
   "id": "56a5393f",
   "metadata": {},
   "outputs": [
    {
     "name": "stdout",
     "output_type": "stream",
     "text": [
      "<class 'pandas.core.frame.DataFrame'>\n",
      "RangeIndex: 205 entries, 0 to 204\n",
      "Data columns (total 8 columns):\n",
      " #   Column        Non-Null Count  Dtype  \n",
      "---  ------        --------------  -----  \n",
      " 0   mission_name  205 non-null    object \n",
      " 1   launch_date   205 non-null    object \n",
      " 2   rocket_name   205 non-null    object \n",
      " 3   payload_mass  166 non-null    float64\n",
      " 4   orbit         192 non-null    object \n",
      " 5   site_name     205 non-null    object \n",
      " 6   location      205 non-null    object \n",
      " 7   success       186 non-null    object \n",
      "dtypes: float64(1), object(7)\n",
      "memory usage: 12.9+ KB\n"
     ]
    }
   ],
   "source": [
    "final.info()"
   ]
  },
  {
   "cell_type": "code",
   "execution_count": 8,
   "id": "15840ab0",
   "metadata": {},
   "outputs": [],
   "source": [
    "import pandas as pd\n",
    "import matplotlib.pyplot as plt\n",
    "import seaborn as sns\n",
    "import sklearn\n",
    "import numpy as np\n"
   ]
  },
  {
   "cell_type": "code",
   "execution_count": 9,
   "id": "46354619",
   "metadata": {},
   "outputs": [
    {
     "data": {
      "text/plain": [
       "<Axes: >"
      ]
     },
     "execution_count": 9,
     "metadata": {},
     "output_type": "execute_result"
    },
    {
     "data": {
      "image/png": "[encoded data removed]",
      "text/plain": [
       "<Figure size 640x480 with 1 Axes>"
      ]
     },
     "metadata": {},
     "output_type": "display_data"
    }
   ],
   "source": [
    "sns.boxplot(final.payload_mass)"
   ]
  },
  {
   "cell_type": "code",
   "execution_count": 10,
   "id": "76b2a4e9",
   "metadata": {},
   "outputs": [],
   "source": [
    "#fill missing values for payload_mass"
   ]
  },
  {
   "cell_type": "code",
   "execution_count": 11,
   "id": "ffc710e1",
   "metadata": {},
   "outputs": [],
   "source": [
    "final.payload_mass=final.payload_mass.fillna(final.payload_mass.mean())"
   ]
  },
  {
   "cell_type": "code",
   "execution_count": 12,
   "id": "5175b9b8",
   "metadata": {},
   "outputs": [
    {
     "name": "stdout",
     "output_type": "stream",
     "text": [
      "<class 'pandas.core.frame.DataFrame'>\n",
      "RangeIndex: 205 entries, 0 to 204\n",
      "Data columns (total 8 columns):\n",
      " #   Column        Non-Null Count  Dtype  \n",
      "---  ------        --------------  -----  \n",
      " 0   mission_name  205 non-null    object \n",
      " 1   launch_date   205 non-null    object \n",
      " 2   rocket_name   205 non-null    object \n",
      " 3   payload_mass  205 non-null    float64\n",
      " 4   orbit         192 non-null    object \n",
      " 5   site_name     205 non-null    object \n",
      " 6   location      205 non-null    object \n",
      " 7   success       186 non-null    object \n",
      "dtypes: float64(1), object(7)\n",
      "memory usage: 12.9+ KB\n"
     ]
    }
   ],
   "source": [
    "final.info()"
   ]
  },
  {
   "cell_type": "code",
   "execution_count": 13,
   "id": "a77225d2",
   "metadata": {},
   "outputs": [],
   "source": [
    "# fill missing values for orbita"
   ]
  },
  {
   "cell_type": "code",
   "execution_count": 14,
   "id": "a8b9cc0a",
   "metadata": {},
   "outputs": [],
   "source": [
    "final.orbit=final.orbit.fillna(final.orbit.mode()[0])"
   ]
  },
  {
   "cell_type": "code",
   "execution_count": 15,
   "id": "ac378ec5",
   "metadata": {},
   "outputs": [
    {
     "data": {
      "text/plain": [
       "0"
      ]
     },
     "execution_count": 15,
     "metadata": {},
     "output_type": "execute_result"
    }
   ],
   "source": [
    "final.orbit.isna().sum()"
   ]
  },
  {
   "cell_type": "code",
   "execution_count": 16,
   "id": "e051b547",
   "metadata": {},
   "outputs": [
    {
     "name": "stdout",
     "output_type": "stream",
     "text": [
      "<class 'pandas.core.frame.DataFrame'>\n",
      "RangeIndex: 205 entries, 0 to 204\n",
      "Data columns (total 8 columns):\n",
      " #   Column        Non-Null Count  Dtype  \n",
      "---  ------        --------------  -----  \n",
      " 0   mission_name  205 non-null    object \n",
      " 1   launch_date   205 non-null    object \n",
      " 2   rocket_name   205 non-null    object \n",
      " 3   payload_mass  205 non-null    float64\n",
      " 4   orbit         205 non-null    object \n",
      " 5   site_name     205 non-null    object \n",
      " 6   location      205 non-null    object \n",
      " 7   success       186 non-null    object \n",
      "dtypes: float64(1), object(7)\n",
      "memory usage: 12.9+ KB\n"
     ]
    }
   ],
   "source": [
    "final.info()"
   ]
  },
  {
   "cell_type": "code",
   "execution_count": 17,
   "id": "58260d91",
   "metadata": {},
   "outputs": [],
   "source": [
    "# fill missing values for succsses column"
   ]
  },
  {
   "cell_type": "code",
   "execution_count": 18,
   "id": "d48b7d3e",
   "metadata": {},
   "outputs": [],
   "source": [
    "final.success=final.success.fillna(final.success.mode()[0])"
   ]
  },
  {
   "cell_type": "code",
   "execution_count": 19,
   "id": "bb3e0ab3",
   "metadata": {},
   "outputs": [
    {
     "data": {
      "text/plain": [
       "success\n",
       "True     200\n",
       "False      5\n",
       "Name: count, dtype: int64"
      ]
     },
     "execution_count": 19,
     "metadata": {},
     "output_type": "execute_result"
    }
   ],
   "source": [
    "final.success.value_counts()"
   ]
  },
  {
   "cell_type": "code",
   "execution_count": 20,
   "id": "327ea1a3",
   "metadata": {},
   "outputs": [
    {
     "name": "stdout",
     "output_type": "stream",
     "text": [
      "<class 'pandas.core.frame.DataFrame'>\n",
      "RangeIndex: 205 entries, 0 to 204\n",
      "Data columns (total 8 columns):\n",
      " #   Column        Non-Null Count  Dtype  \n",
      "---  ------        --------------  -----  \n",
      " 0   mission_name  205 non-null    object \n",
      " 1   launch_date   205 non-null    object \n",
      " 2   rocket_name   205 non-null    object \n",
      " 3   payload_mass  205 non-null    float64\n",
      " 4   orbit         205 non-null    object \n",
      " 5   site_name     205 non-null    object \n",
      " 6   location      205 non-null    object \n",
      " 7   success       205 non-null    bool   \n",
      "dtypes: bool(1), float64(1), object(6)\n",
      "memory usage: 11.5+ KB\n"
     ]
    }
   ],
   "source": [
    "final.info()"
   ]
  },
  {
   "cell_type": "markdown",
   "id": "2e914b0d",
   "metadata": {},
   "source": [
    "# Exploratory Data Analysis (EDA)"
   ]
  },
  {
   "cell_type": "code",
   "execution_count": 21,
   "id": "893d37f4",
   "metadata": {},
   "outputs": [
    {
     "data": {
      "image/png": "[encoded data removed]",
      "text/plain": [
       "<Figure size 640x480 with 1 Axes>"
      ]
     },
     "metadata": {},
     "output_type": "display_data"
    }
   ],
   "source": [
    "# Success/Failure Ka Overall Distribution\n",
    "\n",
    "import seaborn as sns\n",
    "import matplotlib.pyplot as plt\n",
    "\n",
    "sns.countplot(x='success', data=final)\n",
    "plt.title('Overall Launch Success vs Failure')\n",
    "plt.show()"
   ]
  },
  {
   "cell_type": "code",
   "execution_count": 22,
   "id": "6f845838",
   "metadata": {},
   "outputs": [
    {
     "data": {
      "image/png": "[encoded data removed]",
      "text/plain": [
       "<Figure size 640x480 with 1 Axes>"
      ]
     },
     "metadata": {},
     "output_type": "display_data"
    }
   ],
   "source": [
    "# Payload Mass vs Success\n",
    "\n",
    "sns.boxplot(x='success', y='payload_mass', data=final)\n",
    "plt.title('Payload Mass vs Launch Outcome')\n",
    "plt.show()"
   ]
  },
  {
   "cell_type": "code",
   "execution_count": 23,
   "id": "c6305a1f",
   "metadata": {},
   "outputs": [
    {
     "data": {
      "image/png": "[encoded data removed]",
      "text/plain": [
       "<Figure size 600x400 with 1 Axes>"
      ]
     },
     "metadata": {},
     "output_type": "display_data"
    }
   ],
   "source": [
    " #Launch Success vs Failure (Bar Chart)\n",
    "\n",
    "import matplotlib.pyplot as plt\n",
    "\n",
    "success_counts = final['success'].value_counts()\n",
    "\n",
    "plt.figure(figsize=(6,4))\n",
    "plt.bar(['Failure', 'Success'], success_counts, color=['red', 'green'])\n",
    "plt.title('Overall Launch Outcome')\n",
    "plt.xlabel('Launch Outcome')\n",
    "plt.ylabel('Number of Launches')\n",
    "plt.grid(axis='y')\n",
    "plt.show()"
   ]
  },
  {
   "cell_type": "code",
   "execution_count": 24,
   "id": "63e465a5",
   "metadata": {},
   "outputs": [
    {
     "data": {
      "image/png": "[encoded data removed]",
      "text/plain": [
       "<Figure size 640x480 with 1 Axes>"
      ]
     },
     "metadata": {},
     "output_type": "display_data"
    }
   ],
   "source": [
    "#Payload Mass vs Launch Outcome (Box Plot)\n",
    "success = final[final['success'] == 1]['payload_mass']\n",
    "failure = final[final['success'] == 0]['payload_mass']\n",
    "\n",
    "plt.boxplot([failure, success], labels=['Failure', 'Success'])\n",
    "plt.title('Payload Mass Distribution by Launch Outcome')\n",
    "plt.ylabel('Payload Mass (kg)')\n",
    "plt.grid(True)\n",
    "plt.show()\n"
   ]
  },
  {
   "cell_type": "code",
   "execution_count": 25,
   "id": "715010fc",
   "metadata": {},
   "outputs": [
    {
     "data": {
      "image/png": "[encoded data removed]",
      "text/plain": [
       "<Figure size 800x500 with 1 Axes>"
      ]
     },
     "metadata": {},
     "output_type": "display_data"
    }
   ],
   "source": [
    "import matplotlib.pyplot as plt\n",
    "\n",
    "# Total launches by site\n",
    "site_counts = final['site_name'].value_counts()\n",
    "c=[\"g\",\"b\",\"pink\",\"black\",\"m\"]\n",
    "plt.figure(figsize=(8,5))\n",
    "plt.bar(site_counts.index, site_counts.values, color=c)\n",
    "plt.title('Total Launches by Launch Site')\n",
    "plt.xlabel('Launch Site')\n",
    "plt.ylabel('Number of Launches')\n",
    "plt.xticks(rotation=45)\n",
    "plt.grid(axis='y')\n",
    "plt.show()\n"
   ]
  },
  {
   "cell_type": "code",
   "execution_count": 26,
   "id": "0c1a57f6",
   "metadata": {},
   "outputs": [
    {
     "data": {
      "image/png": "[encoded data removed]",
      "text/plain": [
       "<Figure size 800x500 with 1 Axes>"
      ]
     },
     "metadata": {},
     "output_type": "display_data"
    }
   ],
   "source": [
    "#Year-wise Success Rate\n",
    "# Extract year from date\n",
    "final['year'] = pd.to_datetime(final['launch_date']).dt.year\n",
    "\n",
    "# Group by year and get success rate\n",
    "yearly_success = final.groupby('year')['success'].mean()\n",
    "\n",
    "plt.figure(figsize=(8,5))\n",
    "plt.bar(yearly_success.index, yearly_success.values, color='green')\n",
    "plt.title('Year-wise Launch Success Rate')\n",
    "plt.xlabel('Year')\n",
    "plt.ylabel('Success Rate')\n",
    "plt.ylim(0, 1)\n",
    "plt.grid(True)\n",
    "plt.show()\n"
   ]
  },
  {
   "cell_type": "markdown",
   "id": "c2787c7e",
   "metadata": {},
   "source": [
    "# For Machine Learning"
   ]
  },
  {
   "cell_type": "code",
   "execution_count": 27,
   "id": "c31f5149",
   "metadata": {},
   "outputs": [],
   "source": [
    "final.success=[1 if s== True else 0 for s in final.success]"
   ]
  },
  {
   "cell_type": "code",
   "execution_count": 28,
   "id": "4186bfcc",
   "metadata": {},
   "outputs": [
    {
     "data": {
      "text/plain": [
       "0      0\n",
       "1      0\n",
       "2      0\n",
       "3      1\n",
       "4      1\n",
       "      ..\n",
       "200    1\n",
       "201    1\n",
       "202    1\n",
       "203    1\n",
       "204    1\n",
       "Name: success, Length: 205, dtype: int64"
      ]
     },
     "execution_count": 28,
     "metadata": {},
     "output_type": "execute_result"
    }
   ],
   "source": [
    "final.success"
   ]
  },
  {
   "cell_type": "code",
   "execution_count": 29,
   "id": "f537beba",
   "metadata": {},
   "outputs": [],
   "source": [
    "final_encoded=pd.get_dummies(final,dtype=int)"
   ]
  },
  {
   "cell_type": "code",
   "execution_count": 30,
   "id": "b721ebf6",
   "metadata": {},
   "outputs": [
    {
     "data": {
      "text/html": [
       "<div>\n",
       "<style scoped>\n",
       "    .dataframe tbody tr th:only-of-type {\n",
       "        vertical-align: middle;\n",
       "    }\n",
       "\n",
       "    .dataframe tbody tr th {\n",
       "        vertical-align: top;\n",
       "    }\n",
       "\n",
       "    .dataframe thead th {\n",
       "        text-align: right;\n",
       "    }\n",
       "</style>\n",
       "<table border=\"1\" class=\"dataframe\">\n",
       "  <thead>\n",
       "    <tr style=\"text-align: right;\">\n",
       "      <th></th>\n",
       "      <th>payload_mass</th>\n",
       "      <th>success</th>\n",
       "      <th>year</th>\n",
       "      <th>mission_name_ABS-2A / Eutelsat 117W B</th>\n",
       "      <th>mission_name_ABS-3A / Eutelsat 115W B</th>\n",
       "      <th>mission_name_ANASIS-II</th>\n",
       "      <th>mission_name_Amos-17</th>\n",
       "      <th>mission_name_Amos-6</th>\n",
       "      <th>mission_name_ArabSat 6A</th>\n",
       "      <th>mission_name_AsiaSat 6</th>\n",
       "      <th>...</th>\n",
       "      <th>orbit_SSO</th>\n",
       "      <th>orbit_TLI</th>\n",
       "      <th>orbit_VLEO</th>\n",
       "      <th>site_name_CCSFS SLC 40</th>\n",
       "      <th>site_name_KSC LC 39A</th>\n",
       "      <th>site_name_Kwajalein Atoll</th>\n",
       "      <th>site_name_VAFB SLC 4E</th>\n",
       "      <th>location_Cape Canaveral</th>\n",
       "      <th>location_Omelek Island</th>\n",
       "      <th>location_Vandenberg Space Force Base</th>\n",
       "    </tr>\n",
       "  </thead>\n",
       "  <tbody>\n",
       "    <tr>\n",
       "      <th>0</th>\n",
       "      <td>20.000000</td>\n",
       "      <td>0</td>\n",
       "      <td>2006</td>\n",
       "      <td>0</td>\n",
       "      <td>0</td>\n",
       "      <td>0</td>\n",
       "      <td>0</td>\n",
       "      <td>0</td>\n",
       "      <td>0</td>\n",
       "      <td>0</td>\n",
       "      <td>...</td>\n",
       "      <td>0</td>\n",
       "      <td>0</td>\n",
       "      <td>0</td>\n",
       "      <td>0</td>\n",
       "      <td>0</td>\n",
       "      <td>1</td>\n",
       "      <td>0</td>\n",
       "      <td>0</td>\n",
       "      <td>1</td>\n",
       "      <td>0</td>\n",
       "    </tr>\n",
       "    <tr>\n",
       "      <th>1</th>\n",
       "      <td>7842.388855</td>\n",
       "      <td>0</td>\n",
       "      <td>2007</td>\n",
       "      <td>0</td>\n",
       "      <td>0</td>\n",
       "      <td>0</td>\n",
       "      <td>0</td>\n",
       "      <td>0</td>\n",
       "      <td>0</td>\n",
       "      <td>0</td>\n",
       "      <td>...</td>\n",
       "      <td>0</td>\n",
       "      <td>0</td>\n",
       "      <td>0</td>\n",
       "      <td>0</td>\n",
       "      <td>0</td>\n",
       "      <td>1</td>\n",
       "      <td>0</td>\n",
       "      <td>0</td>\n",
       "      <td>1</td>\n",
       "      <td>0</td>\n",
       "    </tr>\n",
       "    <tr>\n",
       "      <th>2</th>\n",
       "      <td>7842.388855</td>\n",
       "      <td>0</td>\n",
       "      <td>2008</td>\n",
       "      <td>0</td>\n",
       "      <td>0</td>\n",
       "      <td>0</td>\n",
       "      <td>0</td>\n",
       "      <td>0</td>\n",
       "      <td>0</td>\n",
       "      <td>0</td>\n",
       "      <td>...</td>\n",
       "      <td>0</td>\n",
       "      <td>0</td>\n",
       "      <td>0</td>\n",
       "      <td>0</td>\n",
       "      <td>0</td>\n",
       "      <td>1</td>\n",
       "      <td>0</td>\n",
       "      <td>0</td>\n",
       "      <td>1</td>\n",
       "      <td>0</td>\n",
       "    </tr>\n",
       "    <tr>\n",
       "      <th>3</th>\n",
       "      <td>165.000000</td>\n",
       "      <td>1</td>\n",
       "      <td>2008</td>\n",
       "      <td>0</td>\n",
       "      <td>0</td>\n",
       "      <td>0</td>\n",
       "      <td>0</td>\n",
       "      <td>0</td>\n",
       "      <td>0</td>\n",
       "      <td>0</td>\n",
       "      <td>...</td>\n",
       "      <td>0</td>\n",
       "      <td>0</td>\n",
       "      <td>0</td>\n",
       "      <td>0</td>\n",
       "      <td>0</td>\n",
       "      <td>1</td>\n",
       "      <td>0</td>\n",
       "      <td>0</td>\n",
       "      <td>1</td>\n",
       "      <td>0</td>\n",
       "    </tr>\n",
       "    <tr>\n",
       "      <th>4</th>\n",
       "      <td>200.000000</td>\n",
       "      <td>1</td>\n",
       "      <td>2009</td>\n",
       "      <td>0</td>\n",
       "      <td>0</td>\n",
       "      <td>0</td>\n",
       "      <td>0</td>\n",
       "      <td>0</td>\n",
       "      <td>0</td>\n",
       "      <td>0</td>\n",
       "      <td>...</td>\n",
       "      <td>0</td>\n",
       "      <td>0</td>\n",
       "      <td>0</td>\n",
       "      <td>0</td>\n",
       "      <td>0</td>\n",
       "      <td>1</td>\n",
       "      <td>0</td>\n",
       "      <td>0</td>\n",
       "      <td>1</td>\n",
       "      <td>0</td>\n",
       "    </tr>\n",
       "    <tr>\n",
       "      <th>...</th>\n",
       "      <td>...</td>\n",
       "      <td>...</td>\n",
       "      <td>...</td>\n",
       "      <td>...</td>\n",
       "      <td>...</td>\n",
       "      <td>...</td>\n",
       "      <td>...</td>\n",
       "      <td>...</td>\n",
       "      <td>...</td>\n",
       "      <td>...</td>\n",
       "      <td>...</td>\n",
       "      <td>...</td>\n",
       "      <td>...</td>\n",
       "      <td>...</td>\n",
       "      <td>...</td>\n",
       "      <td>...</td>\n",
       "      <td>...</td>\n",
       "      <td>...</td>\n",
       "      <td>...</td>\n",
       "      <td>...</td>\n",
       "      <td>...</td>\n",
       "    </tr>\n",
       "    <tr>\n",
       "      <th>200</th>\n",
       "      <td>7842.388855</td>\n",
       "      <td>1</td>\n",
       "      <td>2022</td>\n",
       "      <td>0</td>\n",
       "      <td>0</td>\n",
       "      <td>0</td>\n",
       "      <td>0</td>\n",
       "      <td>0</td>\n",
       "      <td>0</td>\n",
       "      <td>0</td>\n",
       "      <td>...</td>\n",
       "      <td>0</td>\n",
       "      <td>0</td>\n",
       "      <td>1</td>\n",
       "      <td>1</td>\n",
       "      <td>0</td>\n",
       "      <td>0</td>\n",
       "      <td>0</td>\n",
       "      <td>1</td>\n",
       "      <td>0</td>\n",
       "      <td>0</td>\n",
       "    </tr>\n",
       "    <tr>\n",
       "      <th>201</th>\n",
       "      <td>7842.388855</td>\n",
       "      <td>1</td>\n",
       "      <td>2022</td>\n",
       "      <td>0</td>\n",
       "      <td>0</td>\n",
       "      <td>0</td>\n",
       "      <td>0</td>\n",
       "      <td>0</td>\n",
       "      <td>0</td>\n",
       "      <td>0</td>\n",
       "      <td>...</td>\n",
       "      <td>0</td>\n",
       "      <td>0</td>\n",
       "      <td>0</td>\n",
       "      <td>0</td>\n",
       "      <td>0</td>\n",
       "      <td>0</td>\n",
       "      <td>1</td>\n",
       "      <td>0</td>\n",
       "      <td>0</td>\n",
       "      <td>1</td>\n",
       "    </tr>\n",
       "    <tr>\n",
       "      <th>202</th>\n",
       "      <td>7842.388855</td>\n",
       "      <td>1</td>\n",
       "      <td>2022</td>\n",
       "      <td>0</td>\n",
       "      <td>0</td>\n",
       "      <td>0</td>\n",
       "      <td>0</td>\n",
       "      <td>0</td>\n",
       "      <td>0</td>\n",
       "      <td>0</td>\n",
       "      <td>...</td>\n",
       "      <td>1</td>\n",
       "      <td>0</td>\n",
       "      <td>0</td>\n",
       "      <td>1</td>\n",
       "      <td>0</td>\n",
       "      <td>0</td>\n",
       "      <td>0</td>\n",
       "      <td>1</td>\n",
       "      <td>0</td>\n",
       "      <td>0</td>\n",
       "    </tr>\n",
       "    <tr>\n",
       "      <th>203</th>\n",
       "      <td>7842.388855</td>\n",
       "      <td>1</td>\n",
       "      <td>2022</td>\n",
       "      <td>0</td>\n",
       "      <td>0</td>\n",
       "      <td>0</td>\n",
       "      <td>0</td>\n",
       "      <td>0</td>\n",
       "      <td>0</td>\n",
       "      <td>0</td>\n",
       "      <td>...</td>\n",
       "      <td>0</td>\n",
       "      <td>0</td>\n",
       "      <td>1</td>\n",
       "      <td>0</td>\n",
       "      <td>1</td>\n",
       "      <td>0</td>\n",
       "      <td>0</td>\n",
       "      <td>1</td>\n",
       "      <td>0</td>\n",
       "      <td>0</td>\n",
       "    </tr>\n",
       "    <tr>\n",
       "      <th>204</th>\n",
       "      <td>5100.000000</td>\n",
       "      <td>1</td>\n",
       "      <td>2022</td>\n",
       "      <td>0</td>\n",
       "      <td>0</td>\n",
       "      <td>0</td>\n",
       "      <td>0</td>\n",
       "      <td>0</td>\n",
       "      <td>0</td>\n",
       "      <td>0</td>\n",
       "      <td>...</td>\n",
       "      <td>0</td>\n",
       "      <td>0</td>\n",
       "      <td>0</td>\n",
       "      <td>1</td>\n",
       "      <td>0</td>\n",
       "      <td>0</td>\n",
       "      <td>0</td>\n",
       "      <td>1</td>\n",
       "      <td>0</td>\n",
       "      <td>0</td>\n",
       "    </tr>\n",
       "  </tbody>\n",
       "</table>\n",
       "<p>205 rows × 430 columns</p>\n",
       "</div>"
      ],
      "text/plain": [
       "     payload_mass  success  year  mission_name_ABS-2A / Eutelsat 117W B  \\\n",
       "0       20.000000        0  2006                                      0   \n",
       "1     7842.388855        0  2007                                      0   \n",
       "2     7842.388855        0  2008                                      0   \n",
       "3      165.000000        1  2008                                      0   \n",
       "4      200.000000        1  2009                                      0   \n",
       "..            ...      ...   ...                                    ...   \n",
       "200   7842.388855        1  2022                                      0   \n",
       "201   7842.388855        1  2022                                      0   \n",
       "202   7842.388855        1  2022                                      0   \n",
       "203   7842.388855        1  2022                                      0   \n",
       "204   5100.000000        1  2022                                      0   \n",
       "\n",
       "     mission_name_ABS-3A / Eutelsat 115W B  mission_name_ANASIS-II  \\\n",
       "0                                        0                       0   \n",
       "1                                        0                       0   \n",
       "2                                        0                       0   \n",
       "3                                        0                       0   \n",
       "4                                        0                       0   \n",
       "..                                     ...                     ...   \n",
       "200                                      0                       0   \n",
       "201                                      0                       0   \n",
       "202                                      0                       0   \n",
       "203                                      0                       0   \n",
       "204                                      0                       0   \n",
       "\n",
       "     mission_name_Amos-17  mission_name_Amos-6  mission_name_ArabSat 6A  \\\n",
       "0                       0                    0                        0   \n",
       "1                       0                    0                        0   \n",
       "2                       0                    0                        0   \n",
       "3                       0                    0                        0   \n",
       "4                       0                    0                        0   \n",
       "..                    ...                  ...                      ...   \n",
       "200                     0                    0                        0   \n",
       "201                     0                    0                        0   \n",
       "202                     0                    0                        0   \n",
       "203                     0                    0                        0   \n",
       "204                     0                    0                        0   \n",
       "\n",
       "     mission_name_AsiaSat 6  ...  orbit_SSO  orbit_TLI  orbit_VLEO  \\\n",
       "0                         0  ...          0          0           0   \n",
       "1                         0  ...          0          0           0   \n",
       "2                         0  ...          0          0           0   \n",
       "3                         0  ...          0          0           0   \n",
       "4                         0  ...          0          0           0   \n",
       "..                      ...  ...        ...        ...         ...   \n",
       "200                       0  ...          0          0           1   \n",
       "201                       0  ...          0          0           0   \n",
       "202                       0  ...          1          0           0   \n",
       "203                       0  ...          0          0           1   \n",
       "204                       0  ...          0          0           0   \n",
       "\n",
       "     site_name_CCSFS SLC 40  site_name_KSC LC 39A  site_name_Kwajalein Atoll  \\\n",
       "0                         0                     0                          1   \n",
       "1                         0                     0                          1   \n",
       "2                         0                     0                          1   \n",
       "3                         0                     0                          1   \n",
       "4                         0                     0                          1   \n",
       "..                      ...                   ...                        ...   \n",
       "200                       1                     0                          0   \n",
       "201                       0                     0                          0   \n",
       "202                       1                     0                          0   \n",
       "203                       0                     1                          0   \n",
       "204                       1                     0                          0   \n",
       "\n",
       "     site_name_VAFB SLC 4E  location_Cape Canaveral  location_Omelek Island  \\\n",
       "0                        0                        0                       1   \n",
       "1                        0                        0                       1   \n",
       "2                        0                        0                       1   \n",
       "3                        0                        0                       1   \n",
       "4                        0                        0                       1   \n",
       "..                     ...                      ...                     ...   \n",
       "200                      0                        1                       0   \n",
       "201                      1                        0                       0   \n",
       "202                      0                        1                       0   \n",
       "203                      0                        1                       0   \n",
       "204                      0                        1                       0   \n",
       "\n",
       "     location_Vandenberg Space Force Base  \n",
       "0                                       0  \n",
       "1                                       0  \n",
       "2                                       0  \n",
       "3                                       0  \n",
       "4                                       0  \n",
       "..                                    ...  \n",
       "200                                     0  \n",
       "201                                     1  \n",
       "202                                     0  \n",
       "203                                     0  \n",
       "204                                     0  \n",
       "\n",
       "[205 rows x 430 columns]"
      ]
     },
     "execution_count": 30,
     "metadata": {},
     "output_type": "execute_result"
    }
   ],
   "source": [
    "final_encoded"
   ]
  },
  {
   "cell_type": "code",
   "execution_count": 31,
   "id": "8486cb8f",
   "metadata": {},
   "outputs": [],
   "source": [
    "import pandas as pd\n",
    "from sklearn.model_selection import train_test_split\n",
    "from sklearn.ensemble import RandomForestClassifier\n",
    "from sklearn.metrics import accuracy_score, classification_report\n"
   ]
  },
  {
   "cell_type": "code",
   "execution_count": 32,
   "id": "0589ad96",
   "metadata": {},
   "outputs": [],
   "source": [
    "\n",
    "# 2. seperete input and out put \n",
    "X = final_encoded.drop('success', axis=1)\n",
    "y = final_encoded['success']\n"
   ]
  },
  {
   "cell_type": "code",
   "execution_count": 33,
   "id": "ce895cb7",
   "metadata": {},
   "outputs": [],
   "source": [
    "\n",
    "# 3. Train-test split \n",
    "X_train, X_test, y_train, y_test = train_test_split(X, y, test_size=0.2, random_state=42)\n",
    "model = RandomForestClassifier(random_state=42)"
   ]
  },
  {
   "cell_type": "code",
   "execution_count": 34,
   "id": "64c53ef4",
   "metadata": {},
   "outputs": [
    {
     "data": {
      "text/html": [
       "<style>#sk-container-id-1 {color: black;}#sk-container-id-1 pre{padding: 0;}#sk-container-id-1 div.sk-toggleable {background-color: white;}#sk-container-id-1 label.sk-toggleable__label {cursor: pointer;display: block;width: 100%;margin-bottom: 0;padding: 0.3em;box-sizing: border-box;text-align: center;}#sk-container-id-1 label.sk-toggleable__label-arrow:before {content: \"▸\";float: left;margin-right: 0.25em;color: #696969;}#sk-container-id-1 label.sk-toggleable__label-arrow:hover:before {color: black;}#sk-container-id-1 div.sk-estimator:hover label.sk-toggleable__label-arrow:before {color: black;}#sk-container-id-1 div.sk-toggleable__content {max-height: 0;max-width: 0;overflow: hidden;text-align: left;background-color: #f0f8ff;}#sk-container-id-1 div.sk-toggleable__content pre {margin: 0.2em;color: black;border-radius: 0.25em;background-color: #f0f8ff;}#sk-container-id-1 input.sk-toggleable__control:checked~div.sk-toggleable__content {max-height: 200px;max-width: 100%;overflow: auto;}#sk-container-id-1 input.sk-toggleable__control:checked~label.sk-toggleable__label-arrow:before {content: \"▾\";}#sk-container-id-1 div.sk-estimator input.sk-toggleable__control:checked~label.sk-toggleable__label {background-color: #d4ebff;}#sk-container-id-1 div.sk-label input.sk-toggleable__control:checked~label.sk-toggleable__label {background-color: #d4ebff;}#sk-container-id-1 input.sk-hidden--visually {border: 0;clip: rect(1px 1px 1px 1px);clip: rect(1px, 1px, 1px, 1px);height: 1px;margin: -1px;overflow: hidden;padding: 0;position: absolute;width: 1px;}#sk-container-id-1 div.sk-estimator {font-family: monospace;background-color: #f0f8ff;border: 1px dotted black;border-radius: 0.25em;box-sizing: border-box;margin-bottom: 0.5em;}#sk-container-id-1 div.sk-estimator:hover {background-color: #d4ebff;}#sk-container-id-1 div.sk-parallel-item::after {content: \"\";width: 100%;border-bottom: 1px solid gray;flex-grow: 1;}#sk-container-id-1 div.sk-label:hover label.sk-toggleable__label {background-color: #d4ebff;}#sk-container-id-1 div.sk-serial::before {content: \"\";position: absolute;border-left: 1px solid gray;box-sizing: border-box;top: 0;bottom: 0;left: 50%;z-index: 0;}#sk-container-id-1 div.sk-serial {display: flex;flex-direction: column;align-items: center;background-color: white;padding-right: 0.2em;padding-left: 0.2em;position: relative;}#sk-container-id-1 div.sk-item {position: relative;z-index: 1;}#sk-container-id-1 div.sk-parallel {display: flex;align-items: stretch;justify-content: center;background-color: white;position: relative;}#sk-container-id-1 div.sk-item::before, #sk-container-id-1 div.sk-parallel-item::before {content: \"\";position: absolute;border-left: 1px solid gray;box-sizing: border-box;top: 0;bottom: 0;left: 50%;z-index: -1;}#sk-container-id-1 div.sk-parallel-item {display: flex;flex-direction: column;z-index: 1;position: relative;background-color: white;}#sk-container-id-1 div.sk-parallel-item:first-child::after {align-self: flex-end;width: 50%;}#sk-container-id-1 div.sk-parallel-item:last-child::after {align-self: flex-start;width: 50%;}#sk-container-id-1 div.sk-parallel-item:only-child::after {width: 0;}#sk-container-id-1 div.sk-dashed-wrapped {border: 1px dashed gray;margin: 0 0.4em 0.5em 0.4em;box-sizing: border-box;padding-bottom: 0.4em;background-color: white;}#sk-container-id-1 div.sk-label label {font-family: monospace;font-weight: bold;display: inline-block;line-height: 1.2em;}#sk-container-id-1 div.sk-label-container {text-align: center;}#sk-container-id-1 div.sk-container {/* jupyter's `normalize.less` sets `[hidden] { display: none; }` but bootstrap.min.css set `[hidden] { display: none !important; }` so we also need the `!important` here to be able to override the default hidden behavior on the sphinx rendered scikit-learn.org. See: https://github.com/scikit-learn/scikit-learn/issues/21755 */display: inline-block !important;position: relative;}#sk-container-id-1 div.sk-text-repr-fallback {display: none;}</style><div id=\"sk-container-id-1\" class=\"sk-top-container\"><div class=\"sk-text-repr-fallback\"><pre>RandomForestClassifier(random_state=42)</pre><b>In a Jupyter environment, please rerun this cell to show the HTML representation or trust the notebook. <br />On GitHub, the HTML representation is unable to render, please try loading this page with nbviewer.org.</b></div><div class=\"sk-container\" hidden><div class=\"sk-item\"><div class=\"sk-estimator sk-toggleable\"><input class=\"sk-toggleable__control sk-hidden--visually\" id=\"sk-estimator-id-1\" type=\"checkbox\" checked><label for=\"sk-estimator-id-1\" class=\"sk-toggleable__label sk-toggleable__label-arrow\">RandomForestClassifier</label><div class=\"sk-toggleable__content\"><pre>RandomForestClassifier(random_state=42)</pre></div></div></div></div></div>"
      ],
      "text/plain": [
       "RandomForestClassifier(random_state=42)"
      ]
     },
     "execution_count": 34,
     "metadata": {},
     "output_type": "execute_result"
    }
   ],
   "source": [
    "# 4. Model fit \n",
    "\n",
    "model.fit(X_train, y_train)\n",
    "\n"
   ]
  },
  {
   "cell_type": "code",
   "execution_count": 35,
   "id": "b2257c1c",
   "metadata": {},
   "outputs": [
    {
     "data": {
      "text/html": [
       "<div>\n",
       "<style scoped>\n",
       "    .dataframe tbody tr th:only-of-type {\n",
       "        vertical-align: middle;\n",
       "    }\n",
       "\n",
       "    .dataframe tbody tr th {\n",
       "        vertical-align: top;\n",
       "    }\n",
       "\n",
       "    .dataframe thead th {\n",
       "        text-align: right;\n",
       "    }\n",
       "</style>\n",
       "<table border=\"1\" class=\"dataframe\">\n",
       "  <thead>\n",
       "    <tr style=\"text-align: right;\">\n",
       "      <th></th>\n",
       "      <th>y_train</th>\n",
       "      <th>y_predect_train</th>\n",
       "    </tr>\n",
       "  </thead>\n",
       "  <tbody>\n",
       "    <tr>\n",
       "      <th>66</th>\n",
       "      <td>1</td>\n",
       "      <td>1</td>\n",
       "    </tr>\n",
       "    <tr>\n",
       "      <th>111</th>\n",
       "      <td>1</td>\n",
       "      <td>1</td>\n",
       "    </tr>\n",
       "    <tr>\n",
       "      <th>153</th>\n",
       "      <td>1</td>\n",
       "      <td>1</td>\n",
       "    </tr>\n",
       "    <tr>\n",
       "      <th>96</th>\n",
       "      <td>1</td>\n",
       "      <td>1</td>\n",
       "    </tr>\n",
       "    <tr>\n",
       "      <th>38</th>\n",
       "      <td>1</td>\n",
       "      <td>1</td>\n",
       "    </tr>\n",
       "    <tr>\n",
       "      <th>...</th>\n",
       "      <td>...</td>\n",
       "      <td>...</td>\n",
       "    </tr>\n",
       "    <tr>\n",
       "      <th>106</th>\n",
       "      <td>1</td>\n",
       "      <td>1</td>\n",
       "    </tr>\n",
       "    <tr>\n",
       "      <th>14</th>\n",
       "      <td>1</td>\n",
       "      <td>1</td>\n",
       "    </tr>\n",
       "    <tr>\n",
       "      <th>92</th>\n",
       "      <td>1</td>\n",
       "      <td>1</td>\n",
       "    </tr>\n",
       "    <tr>\n",
       "      <th>179</th>\n",
       "      <td>1</td>\n",
       "      <td>1</td>\n",
       "    </tr>\n",
       "    <tr>\n",
       "      <th>102</th>\n",
       "      <td>1</td>\n",
       "      <td>1</td>\n",
       "    </tr>\n",
       "  </tbody>\n",
       "</table>\n",
       "<p>164 rows × 2 columns</p>\n",
       "</div>"
      ],
      "text/plain": [
       "     y_train  y_predect_train\n",
       "66         1                1\n",
       "111        1                1\n",
       "153        1                1\n",
       "96         1                1\n",
       "38         1                1\n",
       "..       ...              ...\n",
       "106        1                1\n",
       "14         1                1\n",
       "92         1                1\n",
       "179        1                1\n",
       "102        1                1\n",
       "\n",
       "[164 rows x 2 columns]"
      ]
     },
     "execution_count": 35,
     "metadata": {},
     "output_type": "execute_result"
    }
   ],
   "source": [
    "# 5. Prediction karain\n",
    "y_pred_train = model.predict(X_train)\n",
    "pd.DataFrame({'y_train':y_train,'y_predect_train':y_pred_train})\n"
   ]
  },
  {
   "cell_type": "code",
   "execution_count": 36,
   "id": "c000f30b",
   "metadata": {},
   "outputs": [
    {
     "data": {
      "text/html": [
       "<div>\n",
       "<style scoped>\n",
       "    .dataframe tbody tr th:only-of-type {\n",
       "        vertical-align: middle;\n",
       "    }\n",
       "\n",
       "    .dataframe tbody tr th {\n",
       "        vertical-align: top;\n",
       "    }\n",
       "\n",
       "    .dataframe thead th {\n",
       "        text-align: right;\n",
       "    }\n",
       "</style>\n",
       "<table border=\"1\" class=\"dataframe\">\n",
       "  <thead>\n",
       "    <tr style=\"text-align: right;\">\n",
       "      <th></th>\n",
       "      <th>y_test</th>\n",
       "      <th>y_predect_test</th>\n",
       "    </tr>\n",
       "  </thead>\n",
       "  <tbody>\n",
       "    <tr>\n",
       "      <th>15</th>\n",
       "      <td>1</td>\n",
       "      <td>1</td>\n",
       "    </tr>\n",
       "    <tr>\n",
       "      <th>9</th>\n",
       "      <td>1</td>\n",
       "      <td>1</td>\n",
       "    </tr>\n",
       "    <tr>\n",
       "      <th>100</th>\n",
       "      <td>1</td>\n",
       "      <td>1</td>\n",
       "    </tr>\n",
       "    <tr>\n",
       "      <th>132</th>\n",
       "      <td>1</td>\n",
       "      <td>1</td>\n",
       "    </tr>\n",
       "    <tr>\n",
       "      <th>68</th>\n",
       "      <td>1</td>\n",
       "      <td>1</td>\n",
       "    </tr>\n",
       "    <tr>\n",
       "      <th>95</th>\n",
       "      <td>1</td>\n",
       "      <td>1</td>\n",
       "    </tr>\n",
       "    <tr>\n",
       "      <th>159</th>\n",
       "      <td>1</td>\n",
       "      <td>1</td>\n",
       "    </tr>\n",
       "    <tr>\n",
       "      <th>162</th>\n",
       "      <td>1</td>\n",
       "      <td>1</td>\n",
       "    </tr>\n",
       "    <tr>\n",
       "      <th>147</th>\n",
       "      <td>1</td>\n",
       "      <td>1</td>\n",
       "    </tr>\n",
       "    <tr>\n",
       "      <th>182</th>\n",
       "      <td>1</td>\n",
       "      <td>1</td>\n",
       "    </tr>\n",
       "    <tr>\n",
       "      <th>191</th>\n",
       "      <td>1</td>\n",
       "      <td>1</td>\n",
       "    </tr>\n",
       "    <tr>\n",
       "      <th>164</th>\n",
       "      <td>1</td>\n",
       "      <td>1</td>\n",
       "    </tr>\n",
       "    <tr>\n",
       "      <th>65</th>\n",
       "      <td>1</td>\n",
       "      <td>1</td>\n",
       "    </tr>\n",
       "    <tr>\n",
       "      <th>175</th>\n",
       "      <td>1</td>\n",
       "      <td>1</td>\n",
       "    </tr>\n",
       "    <tr>\n",
       "      <th>73</th>\n",
       "      <td>1</td>\n",
       "      <td>1</td>\n",
       "    </tr>\n",
       "    <tr>\n",
       "      <th>152</th>\n",
       "      <td>1</td>\n",
       "      <td>1</td>\n",
       "    </tr>\n",
       "    <tr>\n",
       "      <th>18</th>\n",
       "      <td>1</td>\n",
       "      <td>1</td>\n",
       "    </tr>\n",
       "    <tr>\n",
       "      <th>82</th>\n",
       "      <td>1</td>\n",
       "      <td>1</td>\n",
       "    </tr>\n",
       "    <tr>\n",
       "      <th>86</th>\n",
       "      <td>1</td>\n",
       "      <td>1</td>\n",
       "    </tr>\n",
       "    <tr>\n",
       "      <th>143</th>\n",
       "      <td>1</td>\n",
       "      <td>1</td>\n",
       "    </tr>\n",
       "    <tr>\n",
       "      <th>60</th>\n",
       "      <td>1</td>\n",
       "      <td>1</td>\n",
       "    </tr>\n",
       "    <tr>\n",
       "      <th>101</th>\n",
       "      <td>1</td>\n",
       "      <td>1</td>\n",
       "    </tr>\n",
       "    <tr>\n",
       "      <th>98</th>\n",
       "      <td>1</td>\n",
       "      <td>1</td>\n",
       "    </tr>\n",
       "    <tr>\n",
       "      <th>30</th>\n",
       "      <td>1</td>\n",
       "      <td>1</td>\n",
       "    </tr>\n",
       "    <tr>\n",
       "      <th>25</th>\n",
       "      <td>1</td>\n",
       "      <td>1</td>\n",
       "    </tr>\n",
       "    <tr>\n",
       "      <th>16</th>\n",
       "      <td>1</td>\n",
       "      <td>1</td>\n",
       "    </tr>\n",
       "    <tr>\n",
       "      <th>168</th>\n",
       "      <td>1</td>\n",
       "      <td>1</td>\n",
       "    </tr>\n",
       "    <tr>\n",
       "      <th>195</th>\n",
       "      <td>1</td>\n",
       "      <td>1</td>\n",
       "    </tr>\n",
       "    <tr>\n",
       "      <th>97</th>\n",
       "      <td>1</td>\n",
       "      <td>1</td>\n",
       "    </tr>\n",
       "    <tr>\n",
       "      <th>194</th>\n",
       "      <td>1</td>\n",
       "      <td>1</td>\n",
       "    </tr>\n",
       "    <tr>\n",
       "      <th>67</th>\n",
       "      <td>1</td>\n",
       "      <td>1</td>\n",
       "    </tr>\n",
       "    <tr>\n",
       "      <th>120</th>\n",
       "      <td>1</td>\n",
       "      <td>1</td>\n",
       "    </tr>\n",
       "    <tr>\n",
       "      <th>154</th>\n",
       "      <td>1</td>\n",
       "      <td>1</td>\n",
       "    </tr>\n",
       "    <tr>\n",
       "      <th>202</th>\n",
       "      <td>1</td>\n",
       "      <td>1</td>\n",
       "    </tr>\n",
       "    <tr>\n",
       "      <th>79</th>\n",
       "      <td>1</td>\n",
       "      <td>1</td>\n",
       "    </tr>\n",
       "    <tr>\n",
       "      <th>69</th>\n",
       "      <td>1</td>\n",
       "      <td>1</td>\n",
       "    </tr>\n",
       "    <tr>\n",
       "      <th>145</th>\n",
       "      <td>1</td>\n",
       "      <td>1</td>\n",
       "    </tr>\n",
       "    <tr>\n",
       "      <th>55</th>\n",
       "      <td>1</td>\n",
       "      <td>1</td>\n",
       "    </tr>\n",
       "    <tr>\n",
       "      <th>45</th>\n",
       "      <td>1</td>\n",
       "      <td>1</td>\n",
       "    </tr>\n",
       "    <tr>\n",
       "      <th>84</th>\n",
       "      <td>1</td>\n",
       "      <td>1</td>\n",
       "    </tr>\n",
       "    <tr>\n",
       "      <th>146</th>\n",
       "      <td>1</td>\n",
       "      <td>1</td>\n",
       "    </tr>\n",
       "  </tbody>\n",
       "</table>\n",
       "</div>"
      ],
      "text/plain": [
       "     y_test  y_predect_test\n",
       "15        1               1\n",
       "9         1               1\n",
       "100       1               1\n",
       "132       1               1\n",
       "68        1               1\n",
       "95        1               1\n",
       "159       1               1\n",
       "162       1               1\n",
       "147       1               1\n",
       "182       1               1\n",
       "191       1               1\n",
       "164       1               1\n",
       "65        1               1\n",
       "175       1               1\n",
       "73        1               1\n",
       "152       1               1\n",
       "18        1               1\n",
       "82        1               1\n",
       "86        1               1\n",
       "143       1               1\n",
       "60        1               1\n",
       "101       1               1\n",
       "98        1               1\n",
       "30        1               1\n",
       "25        1               1\n",
       "16        1               1\n",
       "168       1               1\n",
       "195       1               1\n",
       "97        1               1\n",
       "194       1               1\n",
       "67        1               1\n",
       "120       1               1\n",
       "154       1               1\n",
       "202       1               1\n",
       "79        1               1\n",
       "69        1               1\n",
       "145       1               1\n",
       "55        1               1\n",
       "45        1               1\n",
       "84        1               1\n",
       "146       1               1"
      ]
     },
     "execution_count": 36,
     "metadata": {},
     "output_type": "execute_result"
    }
   ],
   "source": [
    "y_pred_test = model.predict(X_test)\n",
    "pd.DataFrame({'y_test':y_test,'y_predect_test':y_pred_test})\n",
    "\n"
   ]
  },
  {
   "cell_type": "code",
   "execution_count": 37,
   "id": "47a6fd8f",
   "metadata": {},
   "outputs": [
    {
     "name": "stdout",
     "output_type": "stream",
     "text": [
      "accuracy_score: 1.0\n",
      "recall_score: 1.0\n",
      "precision_score: 1.0\n",
      "f1_score: 1.0\n"
     ]
    }
   ],
   "source": [
    "# 6. Model evaluation print karain\n",
    "from sklearn.metrics import accuracy_score,f1_score,recall_score,precision_score\n",
    "print(f\"accuracy_score: {accuracy_score(y_train, y_pred_train)}\")\n",
    "print(f\"recall_score: {recall_score(y_train, y_pred_train)}\")\n",
    "print(f\"precision_score: {precision_score(y_train, y_pred_train)}\")\n",
    "print(f\"f1_score: {f1_score(y_train, y_pred_train)}\")"
   ]
  },
  {
   "cell_type": "code",
   "execution_count": 38,
   "id": "baa4fc22",
   "metadata": {},
   "outputs": [
    {
     "name": "stdout",
     "output_type": "stream",
     "text": [
      "Requirement already satisfied: folium in c:\\users\\dell\\anaconda3\\lib\\site-packages (0.19.6)\n",
      "Requirement already satisfied: branca>=0.6.0 in c:\\users\\dell\\anaconda3\\lib\\site-packages (from folium) (0.8.1)\n",
      "Requirement already satisfied: jinja2>=2.9 in c:\\users\\dell\\anaconda3\\lib\\site-packages (from folium) (3.1.2)\n",
      "Requirement already satisfied: numpy in c:\\users\\dell\\anaconda3\\lib\\site-packages (from folium) (1.26.4)\n",
      "Requirement already satisfied: requests in c:\\users\\dell\\anaconda3\\lib\\site-packages (from folium) (2.31.0)\n",
      "Requirement already satisfied: xyzservices in c:\\users\\dell\\anaconda3\\lib\\site-packages (from folium) (2022.9.0)\n",
      "Requirement already satisfied: MarkupSafe>=2.0 in c:\\users\\dell\\anaconda3\\lib\\site-packages (from jinja2>=2.9->folium) (2.1.1)\n",
      "Requirement already satisfied: charset-normalizer<4,>=2 in c:\\users\\dell\\anaconda3\\lib\\site-packages (from requests->folium) (2.0.4)\n",
      "Requirement already satisfied: idna<4,>=2.5 in c:\\users\\dell\\anaconda3\\lib\\site-packages (from requests->folium) (3.4)\n",
      "Requirement already satisfied: urllib3<3,>=1.21.1 in c:\\users\\dell\\anaconda3\\lib\\site-packages (from requests->folium) (1.26.16)\n",
      "Requirement already satisfied: certifi>=2017.4.17 in c:\\users\\dell\\anaconda3\\lib\\site-packages (from requests->folium) (2023.7.22)\n",
      "Note: you may need to restart the kernel to use updated packages.\n"
     ]
    }
   ],
   "source": [
    "pip install folium\n"
   ]
  },
  {
   "cell_type": "code",
   "execution_count": 39,
   "id": "5ab953a5",
   "metadata": {},
   "outputs": [
    {
     "name": "stdout",
     "output_type": "stream",
     "text": [
      "Requirement already satisfied: streamlit_folium in c:\\users\\dell\\anaconda3\\lib\\site-packages (0.25.0)Note: you may need to restart the kernel to use updated packages.\n",
      "\n",
      "Requirement already satisfied: streamlit>=1.35.0 in c:\\users\\dell\\anaconda3\\lib\\site-packages (from streamlit_folium) (1.45.1)\n",
      "Requirement already satisfied: folium!=0.15.0,>=0.13 in c:\\users\\dell\\anaconda3\\lib\\site-packages (from streamlit_folium) (0.19.6)\n",
      "Requirement already satisfied: jinja2 in c:\\users\\dell\\anaconda3\\lib\\site-packages (from streamlit_folium) (3.1.2)\n",
      "Requirement already satisfied: branca in c:\\users\\dell\\anaconda3\\lib\\site-packages (from streamlit_folium) (0.8.1)\n",
      "Requirement already satisfied: numpy in c:\\users\\dell\\anaconda3\\lib\\site-packages (from folium!=0.15.0,>=0.13->streamlit_folium) (1.26.4)\n",
      "Requirement already satisfied: requests in c:\\users\\dell\\anaconda3\\lib\\site-packages (from folium!=0.15.0,>=0.13->streamlit_folium) (2.31.0)\n",
      "Requirement already satisfied: xyzservices in c:\\users\\dell\\anaconda3\\lib\\site-packages (from folium!=0.15.0,>=0.13->streamlit_folium) (2022.9.0)\n",
      "Requirement already satisfied: MarkupSafe>=2.0 in c:\\users\\dell\\anaconda3\\lib\\site-packages (from jinja2->streamlit_folium) (2.1.1)\n",
      "Requirement already satisfied: altair<6,>=4.0 in c:\\users\\dell\\anaconda3\\lib\\site-packages (from streamlit>=1.35.0->streamlit_folium) (5.5.0)\n",
      "Requirement already satisfied: blinker<2,>=1.5.0 in c:\\users\\dell\\anaconda3\\lib\\site-packages (from streamlit>=1.35.0->streamlit_folium) (1.9.0)\n",
      "Requirement already satisfied: cachetools<6,>=4.0 in c:\\users\\dell\\anaconda3\\lib\\site-packages (from streamlit>=1.35.0->streamlit_folium) (5.5.2)\n",
      "Requirement already satisfied: click<9,>=7.0 in c:\\users\\dell\\anaconda3\\lib\\site-packages (from streamlit>=1.35.0->streamlit_folium) (8.0.4)\n",
      "Requirement already satisfied: packaging<25,>=20 in c:\\users\\dell\\anaconda3\\lib\\site-packages (from streamlit>=1.35.0->streamlit_folium) (23.1)\n",
      "Requirement already satisfied: pandas<3,>=1.4.0 in c:\\users\\dell\\anaconda3\\lib\\site-packages (from streamlit>=1.35.0->streamlit_folium) (2.0.3)\n",
      "Requirement already satisfied: pillow<12,>=7.1.0 in c:\\users\\dell\\anaconda3\\lib\\site-packages (from streamlit>=1.35.0->streamlit_folium) (9.4.0)\n",
      "Requirement already satisfied: protobuf<7,>=3.20 in c:\\users\\dell\\anaconda3\\lib\\site-packages (from streamlit>=1.35.0->streamlit_folium) (5.29.4)\n",
      "Requirement already satisfied: pyarrow>=7.0 in c:\\users\\dell\\anaconda3\\lib\\site-packages (from streamlit>=1.35.0->streamlit_folium) (11.0.0)\n",
      "Requirement already satisfied: tenacity<10,>=8.1.0 in c:\\users\\dell\\anaconda3\\lib\\site-packages (from streamlit>=1.35.0->streamlit_folium) (8.2.2)\n",
      "Requirement already satisfied: toml<2,>=0.10.1 in c:\\users\\dell\\anaconda3\\lib\\site-packages (from streamlit>=1.35.0->streamlit_folium) (0.10.2)\n",
      "Requirement already satisfied: typing-extensions<5,>=4.4.0 in c:\\users\\dell\\anaconda3\\lib\\site-packages (from streamlit>=1.35.0->streamlit_folium) (4.13.2)\n",
      "Requirement already satisfied: watchdog<7,>=2.1.5 in c:\\users\\dell\\anaconda3\\lib\\site-packages (from streamlit>=1.35.0->streamlit_folium) (2.1.6)\n",
      "Requirement already satisfied: gitpython!=3.1.19,<4,>=3.0.7 in c:\\users\\dell\\anaconda3\\lib\\site-packages (from streamlit>=1.35.0->streamlit_folium) (3.1.44)\n",
      "Requirement already satisfied: pydeck<1,>=0.8.0b4 in c:\\users\\dell\\anaconda3\\lib\\site-packages (from streamlit>=1.35.0->streamlit_folium) (0.9.1)\n",
      "Requirement already satisfied: tornado<7,>=6.0.3 in c:\\users\\dell\\anaconda3\\lib\\site-packages (from streamlit>=1.35.0->streamlit_folium) (6.3.2)\n",
      "Requirement already satisfied: jsonschema>=3.0 in c:\\users\\dell\\anaconda3\\lib\\site-packages (from altair<6,>=4.0->streamlit>=1.35.0->streamlit_folium) (4.17.3)\n",
      "Requirement already satisfied: narwhals>=1.14.2 in c:\\users\\dell\\anaconda3\\lib\\site-packages (from altair<6,>=4.0->streamlit>=1.35.0->streamlit_folium) (1.40.0)\n",
      "Requirement already satisfied: colorama in c:\\users\\dell\\anaconda3\\lib\\site-packages (from click<9,>=7.0->streamlit>=1.35.0->streamlit_folium) (0.4.6)\n",
      "Requirement already satisfied: gitdb<5,>=4.0.1 in c:\\users\\dell\\anaconda3\\lib\\site-packages (from gitpython!=3.1.19,<4,>=3.0.7->streamlit>=1.35.0->streamlit_folium) (4.0.12)\n",
      "Requirement already satisfied: python-dateutil>=2.8.2 in c:\\users\\dell\\anaconda3\\lib\\site-packages (from pandas<3,>=1.4.0->streamlit>=1.35.0->streamlit_folium) (2.8.2)\n",
      "Requirement already satisfied: pytz>=2020.1 in c:\\users\\dell\\anaconda3\\lib\\site-packages (from pandas<3,>=1.4.0->streamlit>=1.35.0->streamlit_folium) (2023.3.post1)\n",
      "Requirement already satisfied: tzdata>=2022.1 in c:\\users\\dell\\anaconda3\\lib\\site-packages (from pandas<3,>=1.4.0->streamlit>=1.35.0->streamlit_folium) (2023.3)\n",
      "Requirement already satisfied: charset-normalizer<4,>=2 in c:\\users\\dell\\anaconda3\\lib\\site-packages (from requests->folium!=0.15.0,>=0.13->streamlit_folium) (2.0.4)\n",
      "Requirement already satisfied: idna<4,>=2.5 in c:\\users\\dell\\anaconda3\\lib\\site-packages (from requests->folium!=0.15.0,>=0.13->streamlit_folium) (3.4)\n",
      "Requirement already satisfied: urllib3<3,>=1.21.1 in c:\\users\\dell\\anaconda3\\lib\\site-packages (from requests->folium!=0.15.0,>=0.13->streamlit_folium) (1.26.16)\n",
      "Requirement already satisfied: certifi>=2017.4.17 in c:\\users\\dell\\anaconda3\\lib\\site-packages (from requests->folium!=0.15.0,>=0.13->streamlit_folium) (2023.7.22)\n",
      "Requirement already satisfied: smmap<6,>=3.0.1 in c:\\users\\dell\\anaconda3\\lib\\site-packages (from gitdb<5,>=4.0.1->gitpython!=3.1.19,<4,>=3.0.7->streamlit>=1.35.0->streamlit_folium) (5.0.2)\n",
      "Requirement already satisfied: attrs>=17.4.0 in c:\\users\\dell\\anaconda3\\lib\\site-packages (from jsonschema>=3.0->altair<6,>=4.0->streamlit>=1.35.0->streamlit_folium) (22.1.0)\n",
      "Requirement already satisfied: pyrsistent!=0.17.0,!=0.17.1,!=0.17.2,>=0.14.0 in c:\\users\\dell\\anaconda3\\lib\\site-packages (from jsonschema>=3.0->altair<6,>=4.0->streamlit>=1.35.0->streamlit_folium) (0.18.0)\n",
      "Requirement already satisfied: six>=1.5 in c:\\users\\dell\\anaconda3\\lib\\site-packages (from python-dateutil>=2.8.2->pandas<3,>=1.4.0->streamlit>=1.35.0->streamlit_folium) (1.16.0)\n"
     ]
    }
   ],
   "source": [
    "pip install streamlit_folium"
   ]
  },
  {
   "cell_type": "code",
   "execution_count": null,
   "id": "63c1caee",
   "metadata": {},
   "outputs": [],
   "source": []
  },
  {
   "cell_type": "code",
   "execution_count": null,
   "id": "fc78b8a6",
   "metadata": {},
   "outputs": [],
   "source": []
  },
  {
   "cell_type": "code",
   "execution_count": null,
   "id": "35088e71",
   "metadata": {},
   "outputs": [],
   "source": []
  }
 ],
 "metadata": {
  "kernelspec": {
   "display_name": "Python 3 (ipykernel)",
   "language": "python",
   "name": "python3"
  },
  "language_info": {
   "codemirror_mode": {
    "name": "ipython",
    "version": 3
   },
   "file_extension": ".py",
   "mimetype": "text/x-python",
   "name": "python",
   "nbconvert_exporter": "python",
   "pygments_lexer": "ipython3",
   "version": "3.11.5"
  }
 },
 "nbformat": 4,
 "nbformat_minor": 5
}
